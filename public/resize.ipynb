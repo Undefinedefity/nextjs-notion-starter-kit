{
 "cells": [
  {
   "cell_type": "code",
   "execution_count": 8,
   "metadata": {},
   "outputs": [],
   "source": [
    "from PIL import Image\n"
   ]
  },
  {
   "cell_type": "code",
   "execution_count": 11,
   "metadata": {},
   "outputs": [
    {
     "name": "stdout",
     "output_type": "stream",
     "text": [
      "PNG (32, 32) LA\n",
      "ICO (48, 48) RGBA\n"
     ]
    }
   ],
   "source": [
    "img = Image.open('favicon.png')\n",
    "# print pixels of img\n",
    "print(img.format, img.size, img.mode)\n",
    "ico = Image.open('favicon.ico')\n",
    "print(ico.format, ico.size, ico.mode)\n"
   ]
  },
  {
   "cell_type": "code",
   "execution_count": 12,
   "metadata": {},
   "outputs": [
    {
     "name": "stdout",
     "output_type": "stream",
     "text": [
      "PNG (48, 48) RGBA\n",
      "ICO (48, 48) RGBA\n"
     ]
    }
   ],
   "source": [
    "img = Image.open('def_icon.png')\n",
    "# print pixels of img\n",
    "print(img.format, img.size, img.mode)\n",
    "ico = Image.open('def_icon.ico')\n",
    "print(ico.format, ico.size, ico.mode)"
   ]
  }
 ],
 "metadata": {
  "kernelspec": {
   "display_name": "Python 3",
   "language": "python",
   "name": "python3"
  },
  "language_info": {
   "codemirror_mode": {
    "name": "ipython",
    "version": 3
   },
   "file_extension": ".py",
   "mimetype": "text/x-python",
   "name": "python",
   "nbconvert_exporter": "python",
   "pygments_lexer": "ipython3",
   "version": "3.10.8"
  },
  "orig_nbformat": 4
 },
 "nbformat": 4,
 "nbformat_minor": 2
}
